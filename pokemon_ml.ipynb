{
 "cells": [
  {
   "cell_type": "code",
   "execution_count": 57,
   "metadata": {},
   "outputs": [],
   "source": [
    "import cv2\n",
    "import numpy as np\n",
    "import  matplotlib.pyplot as plt\n",
    "from keras.models import load_model"
   ]
  },
  {
   "cell_type": "code",
   "execution_count": 58,
   "metadata": {},
   "outputs": [],
   "source": [
    "# Load the pre-trained fruit classification model\n",
    "model = load_model(r'C:\\Users\\Dell\\pokemon.h5')"
   ]
  },
  {
   "cell_type": "markdown",
   "metadata": {},
   "source": [
    "{'Abra': 0,\n",
    " 'Aerodactyl': 1,\n",
    " 'Alakazam': 2,\n",
    " 'Alolan Sandslash': 3,\n",
    " 'Arbok': 4,\n",
    " 'Arcanine': 5,\n",
    " 'Articuno': 6,\n",
    " 'Beedrill': 7,\n",
    " 'Bellsprout': 8,\n",
    " 'Blastoise': 9,\n",
    " 'Bulbasaur': 10,\n",
    " 'Butterfree': 11,\n",
    " 'Caterpie': 12,\n",
    " 'Chansey': 13,\n",
    " 'Charizard': 14,\n",
    " 'Charmander': 15,\n",
    " 'Charmeleon': 16,\n",
    " 'Clefable': 17,\n",
    " 'Clefairy': 18,\n",
    " 'Cloyster': 19,\n",
    " 'Cubone': 20,\n",
    " 'Dewgong': 21,\n",
    " 'Diglett': 22,\n",
    " 'Ditto': 23,\n",
    " 'Dodrio': 24,\n",
    " 'Doduo': 25,\n",
    " 'Dragonair': 26,\n",
    " 'Dragonite': 27,\n",
    " 'Dratini': 28,\n",
    " 'Drowzee': 29,\n",
    " 'Dugtrio': 30,\n",
    " 'Eevee': 31,\n",
    " 'Ekans': 32,\n",
    " 'Electabuzz': 33,\n",
    " 'Electrode': 34,\n",
    " 'Exeggcute': 35,\n",
    " 'Exeggutor': 36,\n",
    " 'Farfetchd': 37,\n",
    " 'Fearow': 38,\n",
    " 'Flareon': 39,\n",
    " 'Gastly': 40,\n",
    " 'Gengar': 41,\n",
    " 'Geodude': 42,\n",
    " 'Gloom': 43,\n",
    " 'Golbat': 44,\n",
    " 'Goldeen': 45,\n",
    " 'Golduck': 46,\n",
    " 'Golem': 47,\n",
    " 'Graveler': 48,\n",
    " 'Grimer': 49,\n",
    " 'Growlithe': 50,\n",
    " 'Gyarados': 51,\n",
    " 'Haunter': 52,\n",
    " 'Hitmonchan': 53,\n",
    " 'Hitmonlee': 54,\n",
    " 'Horsea': 55,\n",
    " 'Hypno': 56,\n",
    " 'Ivysaur': 57,\n",
    " 'Jigglypuff': 58,\n",
    " 'Jolteon': 59,\n",
    " 'Jynx': 60,\n",
    " 'Kabuto': 61,\n",
    " 'Kabutops': 62,\n",
    " 'Kadabra': 63,\n",
    " 'Kakuna': 64,\n",
    " 'Kangaskhan': 65,\n",
    " 'Kingler': 66,\n",
    " 'Koffing': 67,\n",
    " 'Krabby': 68,\n",
    " 'Lapras': 69,\n",
    " 'Lickitung': 70,\n",
    " 'Machamp': 71,\n",
    " 'Machoke': 72,\n",
    " 'Machop': 73,\n",
    " 'Magikarp': 74,\n",
    " 'Magmar': 75,\n",
    " 'Magnemite': 76,\n",
    " 'Magneton': 77,\n",
    " 'Mankey': 78,\n",
    " 'Marowak': 79,\n",
    " 'Meowth': 80,\n",
    " 'Metapod': 81,\n",
    " 'Mew': 82,\n",
    " 'Mewtwo': 83,\n",
    " 'Moltres': 84,\n",
    " 'MrMime': 85,\n",
    " 'Muk': 86,\n",
    " 'Nidoking': 87,\n",
    " 'Nidoqueen': 88,\n",
    " 'Nidorina': 89,\n",
    " 'Nidorino': 90,\n",
    " 'Ninetales': 91,\n",
    " 'Oddish': 92,\n",
    " 'Omanyte': 93,\n",
    " 'Omastar': 94,\n",
    " 'Onix': 95,\n",
    " 'Paras': 96,\n",
    " 'Parasect': 97,\n",
    " 'Persian': 98,\n",
    " 'Pidgeot': 99,\n",
    " 'Pidgeotto': 100,\n",
    " 'Pidgey': 101,\n",
    " 'Pikachu': 102,\n",
    " 'Pinsir': 103,\n",
    " 'Poliwag': 104,\n",
    " 'Poliwhirl': 105,\n",
    " 'Poliwrath': 106,\n",
    " 'Ponyta': 107,\n",
    " 'Porygon': 108,\n",
    " 'Primeape': 109,\n",
    " 'Psyduck': 110,\n",
    " 'Raichu': 111,\n",
    " 'Rapidash': 112,\n",
    " 'Raticate': 113,\n",
    " 'Rattata': 114,\n",
    " 'Rhydon': 115,\n",
    " 'Rhyhorn': 116,\n",
    " 'Sandshrew': 117,\n",
    " 'Sandslash': 118,\n",
    " 'Scyther': 119,\n",
    " 'Seadra': 120,\n",
    " 'Seaking': 121,\n",
    " 'Seel': 122,\n",
    " 'Shellder': 123,\n",
    " 'Slowbro': 124,\n",
    " 'Slowpoke': 125,\n",
    " 'Snorlax': 126,\n",
    " 'Spearow': 127,\n",
    " 'Squirtle': 128,\n",
    " 'Starmie': 129,\n",
    " 'Staryu': 130,\n",
    " 'Tangela': 131,\n",
    " 'Tauros': 132,\n",
    " 'Tentacool': 133,\n",
    " 'Tentacruel': 134,\n",
    " 'Vaporeon': 135,\n",
    " 'Venomoth': 136,\n",
    " 'Venonat': 137,\n",
    " 'Venusaur': 138,\n",
    " 'Victreebel': 139,\n",
    " 'Vileplume': 140,\n",
    " 'Voltorb': 141,\n",
    " 'Vulpix': 142,\n",
    " 'Wartortle': 143,\n",
    " 'Weedle': 144,\n",
    " 'Weepinbell': 145,\n",
    " 'Weezing': 146,\n",
    " 'Wigglytuff': 147,\n",
    " 'Zapdos': 148,\n",
    " 'Zubat': 149}"
   ]
  },
  {
   "cell_type": "code",
   "execution_count": 59,
   "metadata": {},
   "outputs": [],
   "source": [
    "imager= r\"C:\\Users\\Dell\\POKEMON\\test\\Tangela\\e919a6136b8b4d7994da470c8458b938.jpg\"\n",
    "image = cv2.imread(imager)\n",
    "rgb_image = cv2.cvtColor(image, cv2.COLOR_BGR2RGB)"
   ]
  },
  {
   "cell_type": "code",
   "execution_count": 60,
   "metadata": {},
   "outputs": [],
   "source": [
    "from keras.preprocessing import image"
   ]
  },
  {
   "cell_type": "code",
   "execution_count": 61,
   "metadata": {},
   "outputs": [],
   "source": [
    "img=image.load_img(imager,target_size=(280,280))\n",
    "img=image.img_to_array(img)\n",
    "\n",
    "img=np.expand_dims(img,axis=0)\n",
    "img=img/255"
   ]
  },
  {
   "cell_type": "code",
   "execution_count": 62,
   "metadata": {},
   "outputs": [
    {
     "name": "stdout",
     "output_type": "stream",
     "text": [
      "1/1 [==============================] - 0s 251ms/step\n"
     ]
    },
    {
     "data": {
      "text/plain": [
       "array([131], dtype=int64)"
      ]
     },
     "execution_count": 62,
     "metadata": {},
     "output_type": "execute_result"
    }
   ],
   "source": [
    "# Then you can use model.predict\n",
    "y_pred = model.predict(img)\n",
    "# Assuming you have model predictions (output of model.predict())\n",
    "predicted_class_indices = np.argmax(y_pred, axis=1)  # Assuming predicted_probs is a 2D array\n",
    "predicted_class_indices"
   ]
  }
 ],
 "metadata": {
  "kernelspec": {
   "display_name": "base",
   "language": "python",
   "name": "python3"
  },
  "language_info": {
   "codemirror_mode": {
    "name": "ipython",
    "version": 3
   },
   "file_extension": ".py",
   "mimetype": "text/x-python",
   "name": "python",
   "nbconvert_exporter": "python",
   "pygments_lexer": "ipython3",
   "version": "3.11.4"
  }
 },
 "nbformat": 4,
 "nbformat_minor": 2
}
