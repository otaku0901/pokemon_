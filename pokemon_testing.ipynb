{
 "cells": [
  {
   "cell_type": "code",
   "execution_count": 11,
   "metadata": {},
   "outputs": [],
   "source": [
    "import cv2\n",
    "import  matplotlib.pyplot as plt"
   ]
  },
  {
   "cell_type": "markdown",
   "metadata": {},
   "source": [
    "THIS CODE SNIPPET EXECUTED IN TERMINAL IS USED TO SPLIT THE EXISTING DATASET INTO TEST,VALIDATION AND TRAINING SUBFOLDERS\n",
    "import splitfolders\n",
    "splitfolders.ratio('PokemonData', output=\"output\", seed=1337, ratio=(.8, 0.1,0.1)) "
   ]
  },
  {
   "cell_type": "code",
   "execution_count": 12,
   "metadata": {},
   "outputs": [],
   "source": [
    "snorlax=cv2.imread(r'C:\\Users\\Dell\\POKEMON\\train\\Snorlax\\45aacf9ba65543e08c2a9959c7a31b76.jpg')"
   ]
  },
  {
   "cell_type": "code",
   "execution_count": 13,
   "metadata": {},
   "outputs": [],
   "source": [
    "snorlax=cv2.cvtColor(snorlax,cv2.COLOR_BGR2RGB)\n",
    "#plt.imshow(snorlax)"
   ]
  },
  {
   "cell_type": "code",
   "execution_count": 14,
   "metadata": {},
   "outputs": [],
   "source": [
    "from keras.preprocessing.image import ImageDataGenerator\n",
    "image_gen=ImageDataGenerator(rotation_range=45,width_shift_range=0.1,height_shift_range=0.1,rescale=1/255,shear_range=0.2,zoom_range=0.2,horizontal_flip=True,fill_mode='nearest')"
   ]
  },
  {
   "cell_type": "code",
   "execution_count": 15,
   "metadata": {},
   "outputs": [
    {
     "name": "stdout",
     "output_type": "stream",
     "text": [
      "Found 5391 images belonging to 150 classes.\n"
     ]
    }
   ],
   "source": [
    "image_gen.flow_from_directory(r'C:\\Users\\Dell\\POKEMON\\train')\n",
    "input_shape=(280,280,3)"
   ]
  },
  {
   "cell_type": "code",
   "execution_count": 16,
   "metadata": {},
   "outputs": [
    {
     "name": "stdout",
     "output_type": "stream",
     "text": [
      "['Abra', 'Aerodactyl', 'Alakazam', 'Alolan Sandslash', 'Arbok', 'Arcanine', 'Articuno', 'Beedrill', 'Bellsprout', 'Blastoise', 'Bulbasaur', 'Butterfree', 'Caterpie', 'Chansey', 'Charizard', 'Charmander', 'Charmeleon', 'Clefable', 'Clefairy', 'Cloyster', 'Cubone', 'Dewgong', 'Diglett', 'Ditto', 'Dodrio', 'Doduo', 'Dragonair', 'Dragonite', 'Dratini', 'Drowzee', 'Dugtrio', 'Eevee', 'Ekans', 'Electabuzz', 'Electrode', 'Exeggcute', 'Exeggutor', 'Farfetchd', 'Fearow', 'Flareon', 'Gastly', 'Gengar', 'Geodude', 'Gloom', 'Golbat', 'Goldeen', 'Golduck', 'Golem', 'Graveler', 'Grimer', 'Growlithe', 'Gyarados', 'Haunter', 'Hitmonchan', 'Hitmonlee', 'Horsea', 'Hypno', 'Ivysaur', 'Jigglypuff', 'Jolteon', 'Jynx', 'Kabuto', 'Kabutops', 'Kadabra', 'Kakuna', 'Kangaskhan', 'Kingler', 'Koffing', 'Krabby', 'Lapras', 'Lickitung', 'Machamp', 'Machoke', 'Machop', 'Magikarp', 'Magmar', 'Magnemite', 'Magneton', 'Mankey', 'Marowak', 'Meowth', 'Metapod', 'Mew', 'Mewtwo', 'Moltres', 'MrMime', 'Muk', 'Nidoking', 'Nidoqueen', 'Nidorina', 'Nidorino', 'Ninetales', 'Oddish', 'Omanyte', 'Omastar', 'Onix', 'Paras', 'Parasect', 'Persian', 'Pidgeot', 'Pidgeotto', 'Pidgey', 'Pikachu', 'Pinsir', 'Poliwag', 'Poliwhirl', 'Poliwrath', 'Ponyta', 'Porygon', 'Primeape', 'Psyduck', 'Raichu', 'Rapidash', 'Raticate', 'Rattata', 'Rhydon', 'Rhyhorn', 'Sandshrew', 'Sandslash', 'Scyther', 'Seadra', 'Seaking', 'Seel', 'Shellder', 'Slowbro', 'Slowpoke', 'Snorlax', 'Spearow', 'Squirtle', 'Starmie', 'Staryu', 'Tangela', 'Tauros', 'Tentacool', 'Tentacruel', 'Vaporeon', 'Venomoth', 'Venonat', 'Venusaur', 'Victreebel', 'Vileplume', 'Voltorb', 'Vulpix', 'Wartortle', 'Weedle', 'Weepinbell', 'Weezing', 'Wigglytuff', 'Zapdos', 'Zubat']\n"
     ]
    }
   ],
   "source": [
    "# Assuming your dataset structure is like:\n",
    "# - dataset_folder\n",
    "#   - class1\n",
    "#     - image1.jpg\n",
    "#     - image2.jpg\n",
    "#   - class2\n",
    "#     - image3.jpg\n",
    "#     - image4.jpg\n",
    "import os\n",
    "dataset_folder = r'C:\\Users\\Dell\\POKEMON\\train'\n",
    "\n",
    "# Extract labels from folder names\n",
    "labels = [label for label in os.listdir(dataset_folder) if os.path.isdir(os.path.join(dataset_folder, label))]\n",
    "print(labels)\n",
    "# Display the unique labels\n",
    "unique_labels = set(labels)\n",
    "#print(\"Unique Labels:\", unique_labels)\n"
   ]
  },
  {
   "cell_type": "code",
   "execution_count": 17,
   "metadata": {},
   "outputs": [
    {
     "name": "stdout",
     "output_type": "stream",
     "text": [
      "Model: \"sequential\"\n",
      "_________________________________________________________________\n",
      " Layer (type)                Output Shape              Param #   \n",
      "=================================================================\n",
      " conv2d (Conv2D)             (None, 278, 278, 32)      896       \n",
      "                                                                 \n",
      " max_pooling2d (MaxPooling2  (None, 139, 139, 32)      0         \n",
      " D)                                                              \n",
      "                                                                 \n",
      " conv2d_1 (Conv2D)           (None, 137, 137, 64)      18496     \n",
      "                                                                 \n",
      " max_pooling2d_1 (MaxPoolin  (None, 68, 68, 64)        0         \n",
      " g2D)                                                            \n",
      "                                                                 \n",
      " conv2d_2 (Conv2D)           (None, 66, 66, 64)        36928     \n",
      "                                                                 \n",
      " max_pooling2d_2 (MaxPoolin  (None, 33, 33, 64)        0         \n",
      " g2D)                                                            \n",
      "                                                                 \n",
      " flatten (Flatten)           (None, 69696)             0         \n",
      "                                                                 \n",
      " dense (Dense)               (None, 512)               35684864  \n",
      "                                                                 \n",
      " batch_normalization (Batch  (None, 512)               2048      \n",
      " Normalization)                                                  \n",
      "                                                                 \n",
      " activation (Activation)     (None, 512)               0         \n",
      "                                                                 \n",
      " dense_1 (Dense)             (None, 256)               131328    \n",
      "                                                                 \n",
      " batch_normalization_1 (Bat  (None, 256)               1024      \n",
      " chNormalization)                                                \n",
      "                                                                 \n",
      " activation_1 (Activation)   (None, 256)               0         \n",
      "                                                                 \n",
      " dropout (Dropout)           (None, 256)               0         \n",
      "                                                                 \n",
      " dense_2 (Dense)             (None, 150)               38550     \n",
      "                                                                 \n",
      " activation_2 (Activation)   (None, 150)               0         \n",
      "                                                                 \n",
      "=================================================================\n",
      "Total params: 35914134 (137.00 MB)\n",
      "Trainable params: 35912598 (137.00 MB)\n",
      "Non-trainable params: 1536 (6.00 KB)\n",
      "_________________________________________________________________\n"
     ]
    }
   ],
   "source": [
    "from keras.models import Sequential\n",
    "from keras.layers import Conv2D, MaxPooling2D, Flatten, Dense, Dropout, BatchNormalization,Activation\n",
    "model=Sequential()\n",
    "#1st\n",
    "model.add(Conv2D(filters=32,kernel_size=(3,3),input_shape=(280,280,3),activation='relu'))\n",
    "model.add(MaxPooling2D(pool_size=(2,2)))\n",
    "#2nd\n",
    "model.add(Conv2D(filters=64,kernel_size=(3,3),input_shape=(280,280,3),activation='relu'))\n",
    "model.add(MaxPooling2D(pool_size=(2,2)))\n",
    "#3rd\n",
    "model.add(Conv2D(filters=64,kernel_size=(3,3),input_shape=(280,280,3),activation='relu'))\n",
    "model.add(MaxPooling2D(pool_size=(2,2)))\n",
    "\n",
    "#Flattening the previous layers to give 2D->1D\n",
    "model.add(Flatten())\n",
    "#Dense Layer and Activation \n",
    "model.add(Dense(512))\n",
    "model.add(BatchNormalization())\n",
    "model.add(Activation('relu')) \n",
    "#Dense Layer and Activation \n",
    "model.add(Dense(256))\n",
    "model.add(BatchNormalization())\n",
    "model.add(Activation('relu')) \n",
    "#Dropout\n",
    "model.add(Dropout(0.6))\n",
    "#Dense Layer and Activation \n",
    "model.add(Dense(150))\n",
    "model.add(Activation('softmax')) \n",
    "\n",
    "#Compile and give loss func,optimizer and metrics\n",
    "model.compile(loss='categorical_crossentropy',optimizer='rmsprop',metrics=['accuracy'])\n",
    "model.summary()"
   ]
  },
  {
   "cell_type": "code",
   "execution_count": 18,
   "metadata": {},
   "outputs": [
    {
     "name": "stdout",
     "output_type": "stream",
     "text": [
      "Found 5391 images belonging to 150 classes.\n",
      "Found 615 images belonging to 150 classes.\n"
     ]
    }
   ],
   "source": [
    "batch_size=32\n",
    "train_image_gen=image_gen.flow_from_directory(r\"C:\\Users\\Dell\\POKEMON\\train\",target_size=input_shape[:2],batch_size=batch_size,class_mode='categorical')\n",
    "validation_image_gen=image_gen.flow_from_directory(r\"C:\\Users\\Dell\\POKEMON\\val\",target_size=input_shape[:2],batch_size=batch_size,class_mode='categorical')"
   ]
  },
  {
   "cell_type": "code",
   "execution_count": 15,
   "metadata": {},
   "outputs": [
    {
     "name": "stderr",
     "output_type": "stream",
     "text": [
      "C:\\Users\\Dell\\AppData\\Local\\Temp\\ipykernel_13268\\2807781156.py:4: UserWarning: `Model.fit_generator` is deprecated and will be removed in a future version. Please use `Model.fit`, which supports generators.\n",
      "  result=model.fit_generator(train_image_gen,epochs=55,steps_per_epoch=169,\n"
     ]
    },
    {
     "name": "stdout",
     "output_type": "stream",
     "text": [
      "Epoch 1/55\n",
      "169/169 [==============================] - 408s 2s/step - loss: 5.0473 - accuracy: 0.0265 - val_loss: 4.6995 - val_accuracy: 0.0358\n",
      "Epoch 2/55\n",
      "169/169 [==============================] - 346s 2s/step - loss: 4.0281 - accuracy: 0.0831 - val_loss: 3.5607 - val_accuracy: 0.1252\n",
      "Epoch 3/55\n",
      "169/169 [==============================] - 364s 2s/step - loss: 3.5744 - accuracy: 0.1330 - val_loss: 3.7514 - val_accuracy: 0.1171\n",
      "Epoch 4/55\n",
      "169/169 [==============================] - 357s 2s/step - loss: 3.2527 - accuracy: 0.1770 - val_loss: 3.1350 - val_accuracy: 0.1902\n",
      "Epoch 5/55\n",
      "169/169 [==============================] - 363s 2s/step - loss: 3.0640 - accuracy: 0.2126 - val_loss: 2.8932 - val_accuracy: 0.2520\n",
      "Epoch 6/55\n",
      "169/169 [==============================] - 361s 2s/step - loss: 2.9425 - accuracy: 0.2348 - val_loss: 2.8056 - val_accuracy: 0.2634\n",
      "Epoch 7/55\n",
      "169/169 [==============================] - 371s 2s/step - loss: 2.8387 - accuracy: 0.2662 - val_loss: 2.5872 - val_accuracy: 0.3285\n",
      "Epoch 8/55\n",
      "169/169 [==============================] - 366s 2s/step - loss: 2.7419 - accuracy: 0.2818 - val_loss: 2.5879 - val_accuracy: 0.3236\n",
      "Epoch 9/55\n",
      "169/169 [==============================] - 372s 2s/step - loss: 2.6350 - accuracy: 0.2942 - val_loss: 2.5427 - val_accuracy: 0.3447\n",
      "Epoch 10/55\n",
      "169/169 [==============================] - 364s 2s/step - loss: 2.6016 - accuracy: 0.3127 - val_loss: 2.3060 - val_accuracy: 0.3642\n",
      "Epoch 11/55\n",
      "169/169 [==============================] - 359s 2s/step - loss: 2.4844 - accuracy: 0.3335 - val_loss: 2.3823 - val_accuracy: 0.3561\n",
      "Epoch 12/55\n",
      "169/169 [==============================] - 354s 2s/step - loss: 2.4288 - accuracy: 0.3469 - val_loss: 2.5340 - val_accuracy: 0.3333\n",
      "Epoch 13/55\n",
      "169/169 [==============================] - 466s 3s/step - loss: 2.3638 - accuracy: 0.3558 - val_loss: 2.2735 - val_accuracy: 0.4033\n",
      "Epoch 14/55\n",
      "169/169 [==============================] - 721s 4s/step - loss: 2.3045 - accuracy: 0.3736 - val_loss: 2.3423 - val_accuracy: 0.3984\n",
      "Epoch 15/55\n",
      "169/169 [==============================] - 1298s 8s/step - loss: 2.2614 - accuracy: 0.3877 - val_loss: 2.0769 - val_accuracy: 0.4358\n",
      "Epoch 16/55\n",
      "169/169 [==============================] - 369s 2s/step - loss: 2.2030 - accuracy: 0.3936 - val_loss: 2.1092 - val_accuracy: 0.4276\n",
      "Epoch 17/55\n",
      "169/169 [==============================] - 530s 3s/step - loss: 2.1902 - accuracy: 0.4088 - val_loss: 1.9999 - val_accuracy: 0.4472\n",
      "Epoch 18/55\n",
      "169/169 [==============================] - 374s 2s/step - loss: 2.1317 - accuracy: 0.4161 - val_loss: 2.0444 - val_accuracy: 0.4634\n",
      "Epoch 19/55\n",
      "169/169 [==============================] - 369s 2s/step - loss: 2.0609 - accuracy: 0.4422 - val_loss: 1.8616 - val_accuracy: 0.4959\n",
      "Epoch 20/55\n",
      "169/169 [==============================] - 378s 2s/step - loss: 2.0823 - accuracy: 0.4350 - val_loss: 1.9752 - val_accuracy: 0.4878\n",
      "Epoch 21/55\n",
      "169/169 [==============================] - 380s 2s/step - loss: 2.0004 - accuracy: 0.4541 - val_loss: 2.0048 - val_accuracy: 0.4634\n",
      "Epoch 22/55\n",
      "169/169 [==============================] - 375s 2s/step - loss: 2.0040 - accuracy: 0.4522 - val_loss: 2.3227 - val_accuracy: 0.4114\n",
      "Epoch 23/55\n",
      "169/169 [==============================] - 371s 2s/step - loss: 1.9706 - accuracy: 0.4628 - val_loss: 1.9602 - val_accuracy: 0.4715\n",
      "Epoch 24/55\n",
      "169/169 [==============================] - 369s 2s/step - loss: 1.8885 - accuracy: 0.4721 - val_loss: 2.1320 - val_accuracy: 0.4585\n",
      "Epoch 25/55\n",
      "169/169 [==============================] - 363s 2s/step - loss: 1.8585 - accuracy: 0.4860 - val_loss: 1.9838 - val_accuracy: 0.4878\n",
      "Epoch 26/55\n",
      "169/169 [==============================] - 364s 2s/step - loss: 1.8725 - accuracy: 0.4856 - val_loss: 2.1979 - val_accuracy: 0.4374\n",
      "Epoch 27/55\n",
      "169/169 [==============================] - 367s 2s/step - loss: 1.7743 - accuracy: 0.5120 - val_loss: 1.9968 - val_accuracy: 0.4992\n",
      "Epoch 28/55\n",
      "169/169 [==============================] - 376s 2s/step - loss: 1.8163 - accuracy: 0.4990 - val_loss: 1.9991 - val_accuracy: 0.4748\n",
      "Epoch 29/55\n",
      "169/169 [==============================] - 384s 2s/step - loss: 1.7758 - accuracy: 0.5127 - val_loss: 1.8173 - val_accuracy: 0.5220\n",
      "Epoch 30/55\n",
      "169/169 [==============================] - 359s 2s/step - loss: 1.7403 - accuracy: 0.5246 - val_loss: 1.9290 - val_accuracy: 0.5106\n",
      "Epoch 31/55\n",
      "169/169 [==============================] - 360s 2s/step - loss: 1.7246 - accuracy: 0.5296 - val_loss: 1.6808 - val_accuracy: 0.5512\n",
      "Epoch 32/55\n",
      "169/169 [==============================] - 361s 2s/step - loss: 1.6894 - accuracy: 0.5348 - val_loss: 1.9432 - val_accuracy: 0.5268\n",
      "Epoch 33/55\n",
      "169/169 [==============================] - 339s 2s/step - loss: 1.6735 - accuracy: 0.5381 - val_loss: 2.0034 - val_accuracy: 0.4976\n",
      "Epoch 34/55\n",
      "169/169 [==============================] - 360s 2s/step - loss: 1.6552 - accuracy: 0.5459 - val_loss: 1.6608 - val_accuracy: 0.5415\n",
      "Epoch 35/55\n",
      "169/169 [==============================] - 358s 2s/step - loss: 1.6247 - accuracy: 0.5502 - val_loss: 1.7343 - val_accuracy: 0.5333\n",
      "Epoch 36/55\n",
      "169/169 [==============================] - 362s 2s/step - loss: 1.5976 - accuracy: 0.5543 - val_loss: 2.1765 - val_accuracy: 0.5024\n",
      "Epoch 37/55\n",
      "169/169 [==============================] - 556s 3s/step - loss: 1.5871 - accuracy: 0.5533 - val_loss: 1.7617 - val_accuracy: 0.5398\n",
      "Epoch 38/55\n",
      "169/169 [==============================] - 565s 3s/step - loss: 1.6012 - accuracy: 0.5548 - val_loss: 1.7922 - val_accuracy: 0.5431\n",
      "Epoch 39/55\n",
      "169/169 [==============================] - 647s 4s/step - loss: 1.5537 - accuracy: 0.5596 - val_loss: 1.7301 - val_accuracy: 0.5724\n",
      "Epoch 40/55\n",
      "169/169 [==============================] - 407s 2s/step - loss: 1.5213 - accuracy: 0.5741 - val_loss: 1.7458 - val_accuracy: 0.5350\n",
      "Epoch 41/55\n",
      "169/169 [==============================] - 325s 2s/step - loss: 1.5302 - accuracy: 0.5689 - val_loss: 1.7955 - val_accuracy: 0.5512\n",
      "Epoch 42/55\n",
      "169/169 [==============================] - 341s 2s/step - loss: 1.5022 - accuracy: 0.5724 - val_loss: 1.7897 - val_accuracy: 0.5301\n",
      "Epoch 43/55\n",
      "169/169 [==============================] - 508s 3s/step - loss: 1.4951 - accuracy: 0.5802 - val_loss: 1.7022 - val_accuracy: 0.5691\n",
      "Epoch 44/55\n",
      "169/169 [==============================] - 3992s 24s/step - loss: 1.4795 - accuracy: 0.5880 - val_loss: 1.8285 - val_accuracy: 0.5398\n",
      "Epoch 45/55\n",
      "169/169 [==============================] - 349s 2s/step - loss: 1.4485 - accuracy: 0.5914 - val_loss: 1.8401 - val_accuracy: 0.5463\n",
      "Epoch 46/55\n",
      "169/169 [==============================] - 361s 2s/step - loss: 1.4549 - accuracy: 0.5936 - val_loss: 1.8738 - val_accuracy: 0.5122\n",
      "Epoch 47/55\n",
      "169/169 [==============================] - 392s 2s/step - loss: 1.4475 - accuracy: 0.5917 - val_loss: 1.6864 - val_accuracy: 0.5967\n",
      "Epoch 48/55\n",
      "169/169 [==============================] - 445s 3s/step - loss: 1.4376 - accuracy: 0.6001 - val_loss: 1.7414 - val_accuracy: 0.5593\n",
      "Epoch 49/55\n",
      "169/169 [==============================] - 376s 2s/step - loss: 1.3691 - accuracy: 0.6138 - val_loss: 1.7857 - val_accuracy: 0.5902\n",
      "Epoch 50/55\n",
      "169/169 [==============================] - 390s 2s/step - loss: 1.3878 - accuracy: 0.6151 - val_loss: 1.6960 - val_accuracy: 0.5756\n",
      "Epoch 51/55\n",
      "169/169 [==============================] - 408s 2s/step - loss: 1.3783 - accuracy: 0.6086 - val_loss: 2.2473 - val_accuracy: 0.5382\n",
      "Epoch 52/55\n",
      "169/169 [==============================] - 408s 2s/step - loss: 1.3761 - accuracy: 0.6119 - val_loss: 1.9352 - val_accuracy: 0.5675\n",
      "Epoch 53/55\n",
      "169/169 [==============================] - 416s 2s/step - loss: 1.3508 - accuracy: 0.6181 - val_loss: 1.9256 - val_accuracy: 0.5496\n",
      "Epoch 54/55\n",
      "169/169 [==============================] - 362s 2s/step - loss: 1.3125 - accuracy: 0.6264 - val_loss: 1.7079 - val_accuracy: 0.5740\n",
      "Epoch 55/55\n",
      "169/169 [==============================] - 350s 2s/step - loss: 1.3299 - accuracy: 0.6311 - val_loss: 1.6651 - val_accuracy: 0.5951\n"
     ]
    }
   ],
   "source": [
    "\n",
    "from keras.callbacks import EarlyStopping\n",
    "\n",
    "early_stop = EarlyStopping(monitor='val_loss', patience=5, restore_best_weights=True)\n",
    "result=model.fit_generator(train_image_gen,epochs=55,steps_per_epoch=169,\n",
    "                          validation_data=validation_image_gen,validation_steps=20)\n",
    "\n"
   ]
  },
  {
   "cell_type": "code",
   "execution_count": 16,
   "metadata": {},
   "outputs": [
    {
     "name": "stderr",
     "output_type": "stream",
     "text": [
      "c:\\Users\\Dell\\anaconda3\\Lib\\site-packages\\keras\\src\\engine\\training.py:3079: UserWarning: You are saving your model as an HDF5 file via `model.save()`. This file format is considered legacy. We recommend using instead the native Keras format, e.g. `model.save('my_model.keras')`.\n",
      "  saving_api.save_model(\n"
     ]
    },
    {
     "data": {
      "text/plain": [
       "[<matplotlib.lines.Line2D at 0x1db3f438e50>]"
      ]
     },
     "execution_count": 16,
     "metadata": {},
     "output_type": "execute_result"
    },
    {
     "data": {
      "image/png": "[encoded data removed]",
      "text/plain": [
       "<Figure size 640x480 with 1 Axes>"
      ]
     },
     "metadata": {},
     "output_type": "display_data"
    }
   ],
   "source": [
    "model.save('pokemon.h5')\n",
    "plt.plot(result.history['accuracy'])"
   ]
  },
  {
   "cell_type": "code",
   "execution_count": 17,
   "metadata": {},
   "outputs": [
    {
     "name": "stdout",
     "output_type": "stream",
     "text": [
      "Epoch 1/25\n",
      "169/169 [==============================] - 349s 2s/step - loss: 1.3502 - accuracy: 0.6197 - val_loss: 1.7603 - val_accuracy: 0.5642\n",
      "Epoch 2/25\n",
      "169/169 [==============================] - 347s 2s/step - loss: 1.2691 - accuracy: 0.6446 - val_loss: 1.8174 - val_accuracy: 0.5642\n",
      "Epoch 3/25\n",
      "169/169 [==============================] - 363s 2s/step - loss: 1.2973 - accuracy: 0.6322 - val_loss: 1.7659 - val_accuracy: 0.5789\n",
      "Epoch 4/25\n",
      "169/169 [==============================] - 352s 2s/step - loss: 1.2778 - accuracy: 0.6398 - val_loss: 1.8227 - val_accuracy: 0.5707\n",
      "Epoch 5/25\n",
      "169/169 [==============================] - 353s 2s/step - loss: 1.2582 - accuracy: 0.6502 - val_loss: 1.6819 - val_accuracy: 0.5854\n",
      "Epoch 6/25\n",
      "169/169 [==============================] - 350s 2s/step - loss: 1.2685 - accuracy: 0.6420 - val_loss: 1.8405 - val_accuracy: 0.5756\n",
      "Epoch 7/25\n",
      "169/169 [==============================] - 350s 2s/step - loss: 1.2274 - accuracy: 0.6600 - val_loss: 1.8144 - val_accuracy: 0.5789\n",
      "Epoch 8/25\n",
      "169/169 [==============================] - 360s 2s/step - loss: 1.2203 - accuracy: 0.6587 - val_loss: 1.6012 - val_accuracy: 0.6081\n",
      "Epoch 9/25\n",
      "169/169 [==============================] - 353s 2s/step - loss: 1.2583 - accuracy: 0.6503 - val_loss: 1.6538 - val_accuracy: 0.5756\n",
      "Epoch 10/25\n",
      "169/169 [==============================] - 347s 2s/step - loss: 1.2058 - accuracy: 0.6605 - val_loss: 1.6441 - val_accuracy: 0.6228\n",
      "Epoch 11/25\n",
      "169/169 [==============================] - 438s 3s/step - loss: 1.1998 - accuracy: 0.6631 - val_loss: 1.6145 - val_accuracy: 0.5984\n",
      "Epoch 12/25\n",
      "169/169 [==============================] - 675s 4s/step - loss: 1.1758 - accuracy: 0.6735 - val_loss: 1.7957 - val_accuracy: 0.5967\n",
      "Epoch 13/25\n",
      "169/169 [==============================] - 640s 4s/step - loss: 1.1858 - accuracy: 0.6617 - val_loss: 1.7850 - val_accuracy: 0.5821\n",
      "Epoch 14/25\n",
      "169/169 [==============================] - 744s 4s/step - loss: 1.1708 - accuracy: 0.6743 - val_loss: 1.6642 - val_accuracy: 0.6049\n",
      "Epoch 15/25\n",
      "169/169 [==============================] - 725s 4s/step - loss: 1.1738 - accuracy: 0.6663 - val_loss: 1.6997 - val_accuracy: 0.6000\n",
      "Epoch 16/25\n",
      "169/169 [==============================] - 1964s 12s/step - loss: 1.1417 - accuracy: 0.6782 - val_loss: 1.8665 - val_accuracy: 0.5870\n",
      "Epoch 17/25\n",
      "169/169 [==============================] - 332s 2s/step - loss: 1.1399 - accuracy: 0.6778 - val_loss: 1.6653 - val_accuracy: 0.6081\n",
      "Epoch 18/25\n",
      "169/169 [==============================] - 336s 2s/step - loss: 1.1305 - accuracy: 0.6782 - val_loss: 1.6308 - val_accuracy: 0.6081\n",
      "Epoch 19/25\n",
      "169/169 [==============================] - 349s 2s/step - loss: 1.1243 - accuracy: 0.6822 - val_loss: 1.7972 - val_accuracy: 0.6065\n",
      "Epoch 20/25\n",
      "169/169 [==============================] - 342s 2s/step - loss: 1.1157 - accuracy: 0.6787 - val_loss: 1.5684 - val_accuracy: 0.5967\n",
      "Epoch 21/25\n",
      "169/169 [==============================] - 342s 2s/step - loss: 1.1152 - accuracy: 0.6902 - val_loss: 1.5818 - val_accuracy: 0.6244\n",
      "Epoch 22/25\n",
      "169/169 [==============================] - 346s 2s/step - loss: 1.1068 - accuracy: 0.6785 - val_loss: 1.8571 - val_accuracy: 0.6065\n",
      "Epoch 23/25\n",
      "169/169 [==============================] - 343s 2s/step - loss: 1.0834 - accuracy: 0.6893 - val_loss: 1.7647 - val_accuracy: 0.6016\n",
      "Epoch 24/25\n",
      "169/169 [==============================] - 344s 2s/step - loss: 1.0885 - accuracy: 0.6952 - val_loss: 2.2878 - val_accuracy: 0.5675\n",
      "Epoch 25/25\n",
      "169/169 [==============================] - 348s 2s/step - loss: 1.1390 - accuracy: 0.6897 - val_loss: 1.5609 - val_accuracy: 0.6309\n"
     ]
    },
    {
     "data": {
      "text/plain": [
       "<keras.src.callbacks.History at 0x1db3f41fc10>"
      ]
     },
     "execution_count": 17,
     "metadata": {},
     "output_type": "execute_result"
    }
   ],
   "source": [
    "model.fit(train_image_gen,epochs=25,steps_per_epoch=169,\n",
    "                          validation_data=validation_image_gen,validation_steps=20)\n"
   ]
  },
  {
   "cell_type": "code",
   "execution_count": 18,
   "metadata": {},
   "outputs": [
    {
     "name": "stderr",
     "output_type": "stream",
     "text": [
      "c:\\Users\\Dell\\anaconda3\\Lib\\site-packages\\keras\\src\\engine\\training.py:3079: UserWarning: You are saving your model as an HDF5 file via `model.save()`. This file format is considered legacy. We recommend using instead the native Keras format, e.g. `model.save('my_model.keras')`.\n",
      "  saving_api.save_model(\n"
     ]
    },
    {
     "data": {
      "text/plain": [
       "[<matplotlib.lines.Line2D at 0x1db3f79cf90>]"
      ]
     },
     "execution_count": 18,
     "metadata": {},
     "output_type": "execute_result"
    },
    {
     "data": {
      "image/png": "[encoded data removed]",
      "text/plain": [
       "<Figure size 640x480 with 1 Axes>"
      ]
     },
     "metadata": {},
     "output_type": "display_data"
    }
   ],
   "source": [
    "model.save('pokemon.h5')\n",
    "plt.plot(result.history['accuracy'])"
   ]
  },
  {
   "cell_type": "code",
   "execution_count": 1,
   "metadata": {},
   "outputs": [
    {
     "data": {
      "text/plain": [
       "(280, 280, 3)"
      ]
     },
     "execution_count": 1,
     "metadata": {},
     "output_type": "execute_result"
    }
   ],
   "source": [
    "bulbasaur=r\"C:\\Users\\Dell\\POKEMON\\val\\Bulbasaur\\00000021.png\"\n",
    "from keras.preprocessing import image\n",
    "bulbasaur=image.load_img(bulbasaur,target_size=(280,280))\n",
    "bulbasaur=image.img_to_array(bulbasaur)\n",
    "bulbasaur.shape\n",
    "\n"
   ]
  },
  {
   "cell_type": "code",
   "execution_count": 2,
   "metadata": {},
   "outputs": [
    {
     "data": {
      "text/plain": [
       "(1, 280, 280, 3)"
      ]
     },
     "execution_count": 2,
     "metadata": {},
     "output_type": "execute_result"
    }
   ],
   "source": [
    "import numpy as np\n",
    "bulbasaur=np.expand_dims(bulbasaur,axis=0)\n",
    "bulbasaur.shape\n"
   ]
  },
  {
   "cell_type": "code",
   "execution_count": 3,
   "metadata": {},
   "outputs": [
    {
     "ename": "NameError",
     "evalue": "name 'model' is not defined",
     "output_type": "error",
     "traceback": [
      "\u001b[1;31m---------------------------------------------------------------------------\u001b[0m",
      "\u001b[1;31mNameError\u001b[0m                                 Traceback (most recent call last)",
      "Cell \u001b[1;32mIn[3], line 3\u001b[0m\n\u001b[0;32m      1\u001b[0m \u001b[38;5;28;01mimport\u001b[39;00m \u001b[38;5;21;01mnumpy\u001b[39;00m \u001b[38;5;28;01mas\u001b[39;00m \u001b[38;5;21;01mnp\u001b[39;00m\n\u001b[0;32m      2\u001b[0m \u001b[38;5;66;03m# Assuming model is your trained model\u001b[39;00m\n\u001b[1;32m----> 3\u001b[0m y_pred \u001b[38;5;241m=\u001b[39m model\u001b[38;5;241m.\u001b[39mpredict(bulbasaur)\n\u001b[0;32m      5\u001b[0m \u001b[38;5;66;03m# Get the class index with the highest probability for the input\u001b[39;00m\n\u001b[0;32m      6\u001b[0m predicted_class_index \u001b[38;5;241m=\u001b[39m np\u001b[38;5;241m.\u001b[39margmax(y_pred, axis\u001b[38;5;241m=\u001b[39m\u001b[38;5;241m1\u001b[39m)[\u001b[38;5;241m0\u001b[39m]\n",
      "\u001b[1;31mNameError\u001b[0m: name 'model' is not defined"
     ]
    }
   ],
   "source": [
    "import numpy as np\n",
    "# Assuming model is your trained model\n",
    "y_pred = model.predict(bulbasaur)\n",
    "\n",
    "# Get the class index with the highest probability for the input\n",
    "predicted_class_index = np.argmax(y_pred, axis=1)[0]\n",
    "\n",
    "# Print the predicted class index and corresponding probabilities\n",
    "print(f\"Predicted Class Index: {predicted_class_index}, Probabilities: {y_pred[0]}\")\n",
    "\n"
   ]
  },
  {
   "cell_type": "code",
   "execution_count": 19,
   "metadata": {},
   "outputs": [
    {
     "data": {
      "text/plain": [
       "{'Abra': 0,\n",
       " 'Aerodactyl': 1,\n",
       " 'Alakazam': 2,\n",
       " 'Alolan Sandslash': 3,\n",
       " 'Arbok': 4,\n",
       " 'Arcanine': 5,\n",
       " 'Articuno': 6,\n",
       " 'Beedrill': 7,\n",
       " 'Bellsprout': 8,\n",
       " 'Blastoise': 9,\n",
       " 'Bulbasaur': 10,\n",
       " 'Butterfree': 11,\n",
       " 'Caterpie': 12,\n",
       " 'Chansey': 13,\n",
       " 'Charizard': 14,\n",
       " 'Charmander': 15,\n",
       " 'Charmeleon': 16,\n",
       " 'Clefable': 17,\n",
       " 'Clefairy': 18,\n",
       " 'Cloyster': 19,\n",
       " 'Cubone': 20,\n",
       " 'Dewgong': 21,\n",
       " 'Diglett': 22,\n",
       " 'Ditto': 23,\n",
       " 'Dodrio': 24,\n",
       " 'Doduo': 25,\n",
       " 'Dragonair': 26,\n",
       " 'Dragonite': 27,\n",
       " 'Dratini': 28,\n",
       " 'Drowzee': 29,\n",
       " 'Dugtrio': 30,\n",
       " 'Eevee': 31,\n",
       " 'Ekans': 32,\n",
       " 'Electabuzz': 33,\n",
       " 'Electrode': 34,\n",
       " 'Exeggcute': 35,\n",
       " 'Exeggutor': 36,\n",
       " 'Farfetchd': 37,\n",
       " 'Fearow': 38,\n",
       " 'Flareon': 39,\n",
       " 'Gastly': 40,\n",
       " 'Gengar': 41,\n",
       " 'Geodude': 42,\n",
       " 'Gloom': 43,\n",
       " 'Golbat': 44,\n",
       " 'Goldeen': 45,\n",
       " 'Golduck': 46,\n",
       " 'Golem': 47,\n",
       " 'Graveler': 48,\n",
       " 'Grimer': 49,\n",
       " 'Growlithe': 50,\n",
       " 'Gyarados': 51,\n",
       " 'Haunter': 52,\n",
       " 'Hitmonchan': 53,\n",
       " 'Hitmonlee': 54,\n",
       " 'Horsea': 55,\n",
       " 'Hypno': 56,\n",
       " 'Ivysaur': 57,\n",
       " 'Jigglypuff': 58,\n",
       " 'Jolteon': 59,\n",
       " 'Jynx': 60,\n",
       " 'Kabuto': 61,\n",
       " 'Kabutops': 62,\n",
       " 'Kadabra': 63,\n",
       " 'Kakuna': 64,\n",
       " 'Kangaskhan': 65,\n",
       " 'Kingler': 66,\n",
       " 'Koffing': 67,\n",
       " 'Krabby': 68,\n",
       " 'Lapras': 69,\n",
       " 'Lickitung': 70,\n",
       " 'Machamp': 71,\n",
       " 'Machoke': 72,\n",
       " 'Machop': 73,\n",
       " 'Magikarp': 74,\n",
       " 'Magmar': 75,\n",
       " 'Magnemite': 76,\n",
       " 'Magneton': 77,\n",
       " 'Mankey': 78,\n",
       " 'Marowak': 79,\n",
       " 'Meowth': 80,\n",
       " 'Metapod': 81,\n",
       " 'Mew': 82,\n",
       " 'Mewtwo': 83,\n",
       " 'Moltres': 84,\n",
       " 'MrMime': 85,\n",
       " 'Muk': 86,\n",
       " 'Nidoking': 87,\n",
       " 'Nidoqueen': 88,\n",
       " 'Nidorina': 89,\n",
       " 'Nidorino': 90,\n",
       " 'Ninetales': 91,\n",
       " 'Oddish': 92,\n",
       " 'Omanyte': 93,\n",
       " 'Omastar': 94,\n",
       " 'Onix': 95,\n",
       " 'Paras': 96,\n",
       " 'Parasect': 97,\n",
       " 'Persian': 98,\n",
       " 'Pidgeot': 99,\n",
       " 'Pidgeotto': 100,\n",
       " 'Pidgey': 101,\n",
       " 'Pikachu': 102,\n",
       " 'Pinsir': 103,\n",
       " 'Poliwag': 104,\n",
       " 'Poliwhirl': 105,\n",
       " 'Poliwrath': 106,\n",
       " 'Ponyta': 107,\n",
       " 'Porygon': 108,\n",
       " 'Primeape': 109,\n",
       " 'Psyduck': 110,\n",
       " 'Raichu': 111,\n",
       " 'Rapidash': 112,\n",
       " 'Raticate': 113,\n",
       " 'Rattata': 114,\n",
       " 'Rhydon': 115,\n",
       " 'Rhyhorn': 116,\n",
       " 'Sandshrew': 117,\n",
       " 'Sandslash': 118,\n",
       " 'Scyther': 119,\n",
       " 'Seadra': 120,\n",
       " 'Seaking': 121,\n",
       " 'Seel': 122,\n",
       " 'Shellder': 123,\n",
       " 'Slowbro': 124,\n",
       " 'Slowpoke': 125,\n",
       " 'Snorlax': 126,\n",
       " 'Spearow': 127,\n",
       " 'Squirtle': 128,\n",
       " 'Starmie': 129,\n",
       " 'Staryu': 130,\n",
       " 'Tangela': 131,\n",
       " 'Tauros': 132,\n",
       " 'Tentacool': 133,\n",
       " 'Tentacruel': 134,\n",
       " 'Vaporeon': 135,\n",
       " 'Venomoth': 136,\n",
       " 'Venonat': 137,\n",
       " 'Venusaur': 138,\n",
       " 'Victreebel': 139,\n",
       " 'Vileplume': 140,\n",
       " 'Voltorb': 141,\n",
       " 'Vulpix': 142,\n",
       " 'Wartortle': 143,\n",
       " 'Weedle': 144,\n",
       " 'Weepinbell': 145,\n",
       " 'Weezing': 146,\n",
       " 'Wigglytuff': 147,\n",
       " 'Zapdos': 148,\n",
       " 'Zubat': 149}"
      ]
     },
     "execution_count": 19,
     "metadata": {},
     "output_type": "execute_result"
    }
   ],
   "source": [
    "train_image_gen.class_indices"
   ]
  }
 ],
 "metadata": {
  "kernelspec": {
   "display_name": "tensorflow",
   "language": "python",
   "name": "python3"
  },
  "language_info": {
   "codemirror_mode": {
    "name": "ipython",
    "version": 3
   },
   "file_extension": ".py",
   "mimetype": "text/x-python",
   "name": "python",
   "nbconvert_exporter": "python",
   "pygments_lexer": "ipython3",
   "version": "3.11.4"
  }
 },
 "nbformat": 4,
 "nbformat_minor": 2
}
